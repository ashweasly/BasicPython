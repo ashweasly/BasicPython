{
 "cells": [
  {
   "cell_type": "code",
   "execution_count": 2,
   "metadata": {},
   "outputs": [],
   "source": [
    "###Tuples- immutable/unmodifiable"
   ]
  },
  {
   "cell_type": "code",
   "execution_count": 3,
   "metadata": {},
   "outputs": [],
   "source": [
    "a = (1,2,3)"
   ]
  },
  {
   "cell_type": "code",
   "execution_count": 4,
   "metadata": {},
   "outputs": [
    {
     "data": {
      "text/plain": [
       "(1, 2, 3)"
      ]
     },
     "execution_count": 4,
     "metadata": {},
     "output_type": "execute_result"
    }
   ],
   "source": [
    "a"
   ]
  },
  {
   "cell_type": "code",
   "execution_count": null,
   "metadata": {
    "collapsed": true
   },
   "outputs": [],
   "source": []
  },
  {
   "cell_type": "code",
   "execution_count": 11,
   "metadata": {},
   "outputs": [],
   "source": [
    "L = [1,2,3,4,5]\n"
   ]
  },
  {
   "cell_type": "code",
   "execution_count": 10,
   "metadata": {},
   "outputs": [
    {
     "data": {
      "text/plain": [
       "(1, 2, 3, 4)"
      ]
     },
     "execution_count": 10,
     "metadata": {},
     "output_type": "execute_result"
    }
   ],
   "source": [
    "a = tuple(L)\n",
    "\n",
    "a"
   ]
  },
  {
   "cell_type": "code",
   "execution_count": 13,
   "metadata": {},
   "outputs": [
    {
     "data": {
      "text/plain": [
       "(1, 2, 3, 4)"
      ]
     },
     "execution_count": 13,
     "metadata": {},
     "output_type": "execute_result"
    }
   ],
   "source": [
    "L.append(6) #unmodifiable behaviour\n",
    "a"
   ]
  },
  {
   "cell_type": "code",
   "execution_count": 14,
   "metadata": {},
   "outputs": [
    {
     "data": {
      "text/plain": [
       "[1, 2, 3, 4, 5, 6]"
      ]
     },
     "execution_count": 14,
     "metadata": {},
     "output_type": "execute_result"
    }
   ],
   "source": [
    "L"
   ]
  },
  {
   "cell_type": "code",
   "execution_count": 16,
   "metadata": {},
   "outputs": [
    {
     "data": {
      "text/plain": [
       "[1, 2, 3, 4, 5, 6]"
      ]
     },
     "execution_count": 16,
     "metadata": {},
     "output_type": "execute_result"
    }
   ],
   "source": [
    "M = list(L)\n",
    "M"
   ]
  },
  {
   "cell_type": "code",
   "execution_count": 17,
   "metadata": {},
   "outputs": [
    {
     "data": {
      "text/plain": [
       "[1, 2, 3, 4, 5, 6]"
      ]
     },
     "execution_count": 17,
     "metadata": {},
     "output_type": "execute_result"
    }
   ],
   "source": [
    "L.append(7)\n",
    "M"
   ]
  },
  {
   "cell_type": "code",
   "execution_count": 18,
   "metadata": {},
   "outputs": [
    {
     "data": {
      "text/plain": [
       "([1, 2, 3, 4, 5, 6, 7], [4, 5, 6])"
      ]
     },
     "execution_count": 18,
     "metadata": {},
     "output_type": "execute_result"
    }
   ],
   "source": [
    "#Put LIst inside a tuple\n",
    "L2 = [4,5,6]\n",
    "T = (L,L2)\n",
    "T"
   ]
  },
  {
   "cell_type": "code",
   "execution_count": 19,
   "metadata": {},
   "outputs": [
    {
     "data": {
      "text/plain": [
       "([1, 2, 3, 4, 5, 6, 7], [4, 5, 6, 10])"
      ]
     },
     "execution_count": 19,
     "metadata": {},
     "output_type": "execute_result"
    }
   ],
   "source": [
    "L2.append(10)\n",
    "T"
   ]
  },
  {
   "cell_type": "code",
   "execution_count": 20,
   "metadata": {},
   "outputs": [],
   "source": [
    "#Observation if we pass by A = tuple(L) then we pass as values so when we update L, A wont change\n",
    "#But if we pass as T = (L,L2) it is passed by address/reference so when we change L,L2 T changes"
   ]
  },
  {
   "cell_type": "code",
   "execution_count": 23,
   "metadata": {},
   "outputs": [
    {
     "data": {
      "text/plain": [
       "1"
      ]
     },
     "execution_count": 23,
     "metadata": {},
     "output_type": "execute_result"
    }
   ],
   "source": [
    "T.count([4,5,6,10])"
   ]
  },
  {
   "cell_type": "code",
   "execution_count": 26,
   "metadata": {},
   "outputs": [
    {
     "data": {
      "text/plain": [
       "0"
      ]
     },
     "execution_count": 26,
     "metadata": {},
     "output_type": "execute_result"
    }
   ],
   "source": [
    "T.index([4,5,6,10])\n",
    "T.index([1,2,3,4,5,6,7])"
   ]
  },
  {
   "cell_type": "code",
   "execution_count": 28,
   "metadata": {},
   "outputs": [
    {
     "data": {
      "text/plain": [
       "1"
      ]
     },
     "execution_count": 28,
     "metadata": {},
     "output_type": "execute_result"
    }
   ],
   "source": [
    "T2 = (1,2,3,3,4)\n",
    "T2.count(3)\n",
    "T2.index(2)"
   ]
  },
  {
   "cell_type": "code",
   "execution_count": null,
   "metadata": {},
   "outputs": [],
   "source": [
    "#Swapping without a temp variable"
   ]
  },
  {
   "cell_type": "code",
   "execution_count": 32,
   "metadata": {},
   "outputs": [
    {
     "data": {
      "text/plain": [
       "(20, 10)"
      ]
     },
     "execution_count": 32,
     "metadata": {},
     "output_type": "execute_result"
    }
   ],
   "source": [
    "def swapper(a,b):\n",
    "    a,b = b,a\n",
    "    return a,b\n",
    "a = 10\n",
    "b = 20\n",
    "swapper(a,b)"
   ]
  },
  {
   "cell_type": "code",
   "execution_count": null,
   "metadata": {},
   "outputs": [],
   "source": [
    "#Packing and unpacking in Tuples"
   ]
  },
  {
   "cell_type": "code",
   "execution_count": 38,
   "metadata": {},
   "outputs": [
    {
     "name": "stdout",
     "output_type": "stream",
     "text": [
      "123\n"
     ]
    }
   ],
   "source": [
    "a = (1,2,3)\n",
    "c,d,e = a\n",
    "print(str(c) + str(d) + str(e))"
   ]
  },
  {
   "cell_type": "code",
   "execution_count": 39,
   "metadata": {},
   "outputs": [],
   "source": [
    "n= 1,2 # if we simply give , it will consider as tuple"
   ]
  },
  {
   "cell_type": "code",
   "execution_count": 41,
   "metadata": {
    "scrolled": true
   },
   "outputs": [
    {
     "data": {
      "text/plain": [
       "tuple"
      ]
     },
     "execution_count": 41,
     "metadata": {},
     "output_type": "execute_result"
    }
   ],
   "source": [
    "type(n)"
   ]
  },
  {
   "cell_type": "code",
   "execution_count": null,
   "metadata": {},
   "outputs": [],
   "source": [
    "#a = (1,2,3) if we use *d it will take remaining elements"
   ]
  },
  {
   "cell_type": "code",
   "execution_count": 50,
   "metadata": {},
   "outputs": [
    {
     "data": {
      "text/plain": [
       "[2, 3, 4]"
      ]
     },
     "execution_count": 50,
     "metadata": {},
     "output_type": "execute_result"
    }
   ],
   "source": [
    "a = (1,2,3,4,5)\n",
    "c,*d,e= a\n",
    "d"
   ]
  },
  {
   "cell_type": "code",
   "execution_count": 51,
   "metadata": {},
   "outputs": [
    {
     "data": {
      "text/plain": [
       "[2, 3, 4, 5]"
      ]
     },
     "execution_count": 51,
     "metadata": {},
     "output_type": "execute_result"
    }
   ],
   "source": [
    "c,*d =a\n",
    "d"
   ]
  },
  {
   "cell_type": "code",
   "execution_count": 53,
   "metadata": {},
   "outputs": [
    {
     "data": {
      "text/plain": [
       "5"
      ]
     },
     "execution_count": 53,
     "metadata": {},
     "output_type": "execute_result"
    }
   ],
   "source": [
    "*c,d= a\n",
    "d"
   ]
  },
  {
   "cell_type": "markdown",
   "metadata": {},
   "source": [
    "## Dictionary \n",
    "#Key Value Pair\n",
    "Ordering will be for the key(eg - meaning of some word in dictionary)\n",
    "Like array but we define our index\n",
    "Key(searchable iteam should be unique, if we repeat a key , its value will be over written with latest value and old value will be deleted.\n",
    "#Wat is hash?\n"
   ]
  },
  {
   "cell_type": "code",
   "execution_count": 62,
   "metadata": {},
   "outputs": [
    {
     "data": {
      "text/plain": [
       "{1: 'First', 2: 'Two', 'three': '3', '1': 'One'}"
      ]
     },
     "execution_count": 62,
     "metadata": {},
     "output_type": "execute_result"
    }
   ],
   "source": [
    "a = {1:\"One\",2:\"Two\",1:\"First\",\"three\":\"3\",\"1\":\"One\"}\n",
    "a"
   ]
  },
  {
   "cell_type": "code",
   "execution_count": 56,
   "metadata": {},
   "outputs": [
    {
     "data": {
      "text/plain": [
       "'First'"
      ]
     },
     "execution_count": 56,
     "metadata": {},
     "output_type": "execute_result"
    }
   ],
   "source": [
    "a[1]"
   ]
  },
  {
   "cell_type": "code",
   "execution_count": 59,
   "metadata": {},
   "outputs": [
    {
     "data": {
      "text/plain": [
       "'3'"
      ]
     },
     "execution_count": 59,
     "metadata": {},
     "output_type": "execute_result"
    }
   ],
   "source": [
    "a[\"three\"]"
   ]
  },
  {
   "cell_type": "code",
   "execution_count": 60,
   "metadata": {},
   "outputs": [
    {
     "data": {
      "text/plain": [
       "'First'"
      ]
     },
     "execution_count": 60,
     "metadata": {},
     "output_type": "execute_result"
    }
   ],
   "source": [
    "a.get(1)"
   ]
  },
  {
   "cell_type": "code",
   "execution_count": 61,
   "metadata": {},
   "outputs": [
    {
     "data": {
      "text/plain": [
       "'3'"
      ]
     },
     "execution_count": 61,
     "metadata": {},
     "output_type": "execute_result"
    }
   ],
   "source": [
    "a.get(\"three\")"
   ]
  },
  {
   "cell_type": "code",
   "execution_count": 64,
   "metadata": {},
   "outputs": [],
   "source": [
    "a.get(7) # null value"
   ]
  },
  {
   "cell_type": "code",
   "execution_count": 66,
   "metadata": {},
   "outputs": [
    {
     "data": {
      "text/plain": [
       "'no value'"
      ]
     },
     "execution_count": 66,
     "metadata": {},
     "output_type": "execute_result"
    }
   ],
   "source": [
    "a.get(7,0)#to give default value if the element is not found\n",
    "a.get(7,\"no value\")"
   ]
  },
  {
   "cell_type": "code",
   "execution_count": 68,
   "metadata": {},
   "outputs": [],
   "source": [
    "a.update({1:\"Changes\"})"
   ]
  },
  {
   "cell_type": "code",
   "execution_count": 69,
   "metadata": {},
   "outputs": [
    {
     "data": {
      "text/plain": [
       "{1: 'Changes', 2: 'Two', 'three': '3', '1': 'One'}"
      ]
     },
     "execution_count": 69,
     "metadata": {},
     "output_type": "execute_result"
    }
   ],
   "source": [
    "a"
   ]
  },
  {
   "cell_type": "code",
   "execution_count": 70,
   "metadata": {},
   "outputs": [
    {
     "data": {
      "text/plain": [
       "dict_keys([1, 2, 'three', '1'])"
      ]
     },
     "execution_count": 70,
     "metadata": {},
     "output_type": "execute_result"
    }
   ],
   "source": [
    "a.keys()"
   ]
  },
  {
   "cell_type": "code",
   "execution_count": 71,
   "metadata": {},
   "outputs": [
    {
     "data": {
      "text/plain": [
       "dict_keys"
      ]
     },
     "execution_count": 71,
     "metadata": {},
     "output_type": "execute_result"
    }
   ],
   "source": [
    "type(a.keys())"
   ]
  },
  {
   "cell_type": "code",
   "execution_count": 77,
   "metadata": {},
   "outputs": [],
   "source": [
    "# Keys Example"
   ]
  },
  {
   "cell_type": "code",
   "execution_count": 78,
   "metadata": {},
   "outputs": [
    {
     "name": "stdout",
     "output_type": "stream",
     "text": [
      "1\n",
      "2\n",
      "three\n",
      "1\n"
     ]
    }
   ],
   "source": [
    "for i in a.keys():\n",
    "    print(i)"
   ]
  },
  {
   "cell_type": "code",
   "execution_count": 79,
   "metadata": {},
   "outputs": [
    {
     "name": "stdout",
     "output_type": "stream",
     "text": [
      "1 Changes\n",
      "2 Two\n",
      "three 3\n",
      "1 One\n"
     ]
    }
   ],
   "source": [
    "for i in a.keys():\n",
    "    print(i,a.get(i))"
   ]
  },
  {
   "cell_type": "markdown",
   "metadata": {},
   "source": [
    "### Correct way of using dictionary- use items,Looping dictionary"
   ]
  },
  {
   "cell_type": "code",
   "execution_count": 80,
   "metadata": {},
   "outputs": [
    {
     "data": {
      "text/plain": [
       "dict_items([(1, 'Changes'), (2, 'Two'), ('three', '3'), ('1', 'One')])"
      ]
     },
     "execution_count": 80,
     "metadata": {},
     "output_type": "execute_result"
    }
   ],
   "source": [
    "a.items()"
   ]
  },
  {
   "cell_type": "code",
   "execution_count": 81,
   "metadata": {},
   "outputs": [
    {
     "name": "stdout",
     "output_type": "stream",
     "text": [
      "1 Changes\n"
     ]
    }
   ],
   "source": [
    "for k,v in a.items():\n",
    "    if k == 1:\n",
    "        print(k,v)\n",
    "        "
   ]
  },
  {
   "cell_type": "code",
   "execution_count": 86,
   "metadata": {},
   "outputs": [
    {
     "data": {
      "text/plain": [
       "('1', 'One')"
      ]
     },
     "execution_count": 86,
     "metadata": {},
     "output_type": "execute_result"
    }
   ],
   "source": [
    "a.popitem() #last item\n"
   ]
  },
  {
   "cell_type": "code",
   "execution_count": 87,
   "metadata": {},
   "outputs": [
    {
     "data": {
      "text/plain": [
       "{1: 'Changes', 'three': '3'}"
      ]
     },
     "execution_count": 87,
     "metadata": {},
     "output_type": "execute_result"
    }
   ],
   "source": [
    "a.pop(2)\n",
    "a"
   ]
  },
  {
   "cell_type": "markdown",
   "metadata": {},
   "source": [
    "### Delete"
   ]
  },
  {
   "cell_type": "code",
   "execution_count": 88,
   "metadata": {},
   "outputs": [],
   "source": [
    "a = {1,2,3}\n"
   ]
  },
  {
   "cell_type": "code",
   "execution_count": 89,
   "metadata": {},
   "outputs": [
    {
     "ename": "NameError",
     "evalue": "name 'a' is not defined",
     "output_type": "error",
     "traceback": [
      "\u001b[1;31m---------------------------------------------------------------------------\u001b[0m",
      "\u001b[1;31mNameError\u001b[0m                                 Traceback (most recent call last)",
      "\u001b[1;32m<ipython-input-89-88f0dc819981>\u001b[0m in \u001b[0;36m<module>\u001b[1;34m()\u001b[0m\n\u001b[0;32m      1\u001b[0m \u001b[1;32mdel\u001b[0m \u001b[0ma\u001b[0m\u001b[1;33m\u001b[0m\u001b[0m\n\u001b[1;32m----> 2\u001b[1;33m \u001b[0ma\u001b[0m\u001b[1;33m\u001b[0m\u001b[0m\n\u001b[0m",
      "\u001b[1;31mNameError\u001b[0m: name 'a' is not defined"
     ]
    }
   ],
   "source": [
    "del a\n",
    "a"
   ]
  },
  {
   "cell_type": "code",
   "execution_count": 105,
   "metadata": {},
   "outputs": [],
   "source": [
    "a = {1:100,2:100}\n"
   ]
  },
  {
   "cell_type": "markdown",
   "metadata": {},
   "source": [
    "# use \":\" and not \",\" for dictionary"
   ]
  },
  {
   "cell_type": "code",
   "execution_count": 113,
   "metadata": {},
   "outputs": [
    {
     "data": {
      "text/plain": [
       "{1: 200, 2: 200}"
      ]
     },
     "execution_count": 113,
     "metadata": {},
     "output_type": "execute_result"
    }
   ],
   "source": [
    "def dictionary_doubler(a):\n",
    "    b = dict()\n",
    "    for k,v in a.items():\n",
    "         b.update({k:2*v})\n",
    "    return b\n",
    "dictionary_doubler(a)"
   ]
  },
  {
   "cell_type": "code",
   "execution_count": 121,
   "metadata": {},
   "outputs": [
    {
     "data": {
      "text/plain": [
       "{1: 200, 2: 200}"
      ]
     },
     "execution_count": 121,
     "metadata": {},
     "output_type": "execute_result"
    }
   ],
   "source": [
    "c= {i:2*j for i,j in a.items()}\n",
    "c"
   ]
  },
  {
   "cell_type": "code",
   "execution_count": 122,
   "metadata": {},
   "outputs": [
    {
     "ename": "SyntaxError",
     "evalue": "invalid syntax (<ipython-input-122-433b8f836101>, line 2)",
     "output_type": "error",
     "traceback": [
      "\u001b[1;36m  File \u001b[1;32m\"<ipython-input-122-433b8f836101>\"\u001b[1;36m, line \u001b[1;32m2\u001b[0m\n\u001b[1;33m    b= dict(map(lambda(x:y:x,2*y,a.items())))\u001b[0m\n\u001b[1;37m                      ^\u001b[0m\n\u001b[1;31mSyntaxError\u001b[0m\u001b[1;31m:\u001b[0m invalid syntax\n"
     ]
    }
   ],
   "source": [
    "\n",
    "b= dict(map(lambda(x:y:x,2*y,a.items())))"
   ]
  },
  {
   "cell_type": "markdown",
   "metadata": {},
   "source": [
    "## File Handling"
   ]
  },
  {
   "cell_type": "code",
   "execution_count": 149,
   "metadata": {},
   "outputs": [],
   "source": [
    "a = open(\"Filehandling/Sample.txt\",mode = \"w\")"
   ]
  },
  {
   "cell_type": "code",
   "execution_count": 150,
   "metadata": {},
   "outputs": [],
   "source": [
    "for i in range(10):\n",
    "    a.write(\" line\")"
   ]
  },
  {
   "cell_type": "code",
   "execution_count": 151,
   "metadata": {},
   "outputs": [],
   "source": [
    "a.close()"
   ]
  },
  {
   "cell_type": "code",
   "execution_count": 159,
   "metadata": {},
   "outputs": [],
   "source": [
    "a = open(\"Filehandling/Sample.txt\",mode = \"r\")"
   ]
  },
  {
   "cell_type": "code",
   "execution_count": null,
   "metadata": {},
   "outputs": [],
   "source": []
  },
  {
   "cell_type": "code",
   "execution_count": 158,
   "metadata": {},
   "outputs": [
    {
     "name": "stdout",
     "output_type": "stream",
     "text": [
      " line line line line line line line line line line\n"
     ]
    }
   ],
   "source": [
    "print(a.read())"
   ]
  },
  {
   "cell_type": "code",
   "execution_count": 160,
   "metadata": {},
   "outputs": [
    {
     "data": {
      "text/plain": [
       "[['',\n",
       "  'line',\n",
       "  'line',\n",
       "  'line',\n",
       "  'line',\n",
       "  'line',\n",
       "  'line',\n",
       "  'line',\n",
       "  'line',\n",
       "  'line',\n",
       "  'line']]"
      ]
     },
     "execution_count": 160,
     "metadata": {},
     "output_type": "execute_result"
    }
   ],
   "source": [
    "for i in a :\n",
    "    l = [i.split(\" \")]\n",
    "l"
   ]
  },
  {
   "cell_type": "markdown",
   "metadata": {},
   "source": [
    "## get count of words"
   ]
  },
  {
   "cell_type": "code",
   "execution_count": 182,
   "metadata": {},
   "outputs": [],
   "source": [
    "a = open(\"Filehandling/Sample.txt\",mode = \"r\")\n"
   ]
  },
  {
   "cell_type": "code",
   "execution_count": 180,
   "metadata": {},
   "outputs": [
    {
     "name": "stdout",
     "output_type": "stream",
     "text": [
      "It was a really good performance; the guys are coming out and playing their roles. There was a little bit there for us with the overcast conditions and we did well to pick regular wickets. We learnt some harsh lessons against India as individuals. We've seen Nice performances in the last two matches, especially from Guptill in terms of taking the momentum from the previous game. Scoring back-t-back hundreds is freakish. It was nice to spend some time in the middle and I wanted to play straight and I wanted to assist his freedom. \n"
     ]
    }
   ],
   "source": [
    "print(a.read())"
   ]
  },
  {
   "cell_type": "raw",
   "metadata": {},
   "source": [
    "## word count"
   ]
  },
  {
   "cell_type": "code",
   "execution_count": 187,
   "metadata": {},
   "outputs": [],
   "source": [
    "def wordcount(b):\n",
    "    dec = {}\n",
    "    text = a.read().split()\n",
    "    for i in text:\n",
    "        dec[i]=dec.get(i,0)+1 #dec(It) = dec.get(i,o)=1+1\n",
    "    print(dec)\n",
    "        "
   ]
  },
  {
   "cell_type": "code",
   "execution_count": 189,
   "metadata": {},
   "outputs": [
    {
     "name": "stdout",
     "output_type": "stream",
     "text": [
      "{'It': 2, 'was': 3, 'a': 2, 'really': 1, 'good': 1, 'performance;': 1, 'the': 6, 'guys': 1, 'are': 1, 'coming': 1, 'out': 1, 'and': 4, 'playing': 1, 'their': 1, 'roles.': 1, 'There': 1, 'little': 1, 'bit': 1, 'there': 1, 'for': 1, 'us': 1, 'with': 1, 'overcast': 1, 'conditions': 1, 'we': 1, 'did': 1, 'well': 1, 'to': 4, 'pick': 1, 'regular': 1, 'wickets.': 1, 'We': 1, 'learnt': 1, 'some': 2, 'harsh': 1, 'lessons': 1, 'against': 1, 'India': 1, 'as': 1, 'individuals.': 1, \"We've\": 1, 'seen': 1, 'Nice': 1, 'performances': 1, 'in': 3, 'last': 1, 'two': 1, 'matches,': 1, 'especially': 1, 'from': 2, 'Guptill': 1, 'terms': 1, 'of': 1, 'taking': 1, 'momentum': 1, 'previous': 1, 'game.': 1, 'Scoring': 1, 'back-t-back': 1, 'hundreds': 1, 'is': 1, 'freakish.': 1, 'nice': 1, 'spend': 1, 'time': 1, 'middle': 1, 'I': 2, 'wanted': 2, 'play': 1, 'straight': 1, 'assist': 1, 'his': 1, 'freedom.': 1}\n"
     ]
    }
   ],
   "source": [
    "a = open(\"Filehandling/Sample.txt\",mode = \"r\")\n",
    "\n",
    "\n",
    "wordcount(a)"
   ]
  },
  {
   "cell_type": "code",
   "execution_count": 196,
   "metadata": {},
   "outputs": [
    {
     "data": {
      "text/plain": [
       "{'',\n",
       " 'Guptill',\n",
       " 'I',\n",
       " 'India',\n",
       " 'It',\n",
       " 'Nice',\n",
       " 'Scoring',\n",
       " 'There',\n",
       " 'We',\n",
       " \"We've\",\n",
       " 'a',\n",
       " 'against',\n",
       " 'and',\n",
       " 'are',\n",
       " 'as',\n",
       " 'assist',\n",
       " 'back-t-back',\n",
       " 'bit',\n",
       " 'coming',\n",
       " 'conditions',\n",
       " 'did',\n",
       " 'especially',\n",
       " 'for',\n",
       " 'freakish.',\n",
       " 'freedom.',\n",
       " 'from',\n",
       " 'game.',\n",
       " 'good',\n",
       " 'guys',\n",
       " 'harsh',\n",
       " 'his',\n",
       " 'hundreds',\n",
       " 'in',\n",
       " 'individuals.',\n",
       " 'is',\n",
       " 'last',\n",
       " 'learnt',\n",
       " 'lessons',\n",
       " 'little',\n",
       " 'matches,',\n",
       " 'middle',\n",
       " 'momentum',\n",
       " 'nice',\n",
       " 'of',\n",
       " 'out',\n",
       " 'overcast',\n",
       " 'performance;',\n",
       " 'performances',\n",
       " 'pick',\n",
       " 'play',\n",
       " 'playing',\n",
       " 'previous',\n",
       " 'really',\n",
       " 'regular',\n",
       " 'roles.',\n",
       " 'seen',\n",
       " 'some',\n",
       " 'spend',\n",
       " 'straight',\n",
       " 'taking',\n",
       " 'terms',\n",
       " 'the',\n",
       " 'their',\n",
       " 'there',\n",
       " 'time',\n",
       " 'to',\n",
       " 'two',\n",
       " 'us',\n",
       " 'wanted',\n",
       " 'was',\n",
       " 'we',\n",
       " 'well',\n",
       " 'wickets.',\n",
       " 'with'}"
      ]
     },
     "execution_count": 196,
     "metadata": {},
     "output_type": "execute_result"
    }
   ],
   "source": [
    "#using set\n",
    "a = open(\"Filehandling/Sample.txt\",mode = \"r\")\n",
    "for i in a :\n",
    "    l = i.split(\" \")\n",
    "type(l)\n",
    "s = set(l)\n",
    "s"
   ]
  },
  {
   "cell_type": "code",
   "execution_count": 195,
   "metadata": {},
   "outputs": [
    {
     "data": {
      "text/plain": [
       "['It',\n",
       " 'was',\n",
       " 'a',\n",
       " 'really',\n",
       " 'good',\n",
       " 'performance;',\n",
       " 'the',\n",
       " 'guys',\n",
       " 'are',\n",
       " 'coming',\n",
       " 'out',\n",
       " 'and',\n",
       " 'playing',\n",
       " 'their',\n",
       " 'roles.',\n",
       " 'There',\n",
       " 'was',\n",
       " 'a',\n",
       " 'little',\n",
       " 'bit',\n",
       " 'there',\n",
       " 'for',\n",
       " 'us',\n",
       " 'with',\n",
       " 'the',\n",
       " 'overcast',\n",
       " 'conditions',\n",
       " 'and',\n",
       " 'we',\n",
       " 'did',\n",
       " 'well',\n",
       " 'to',\n",
       " 'pick',\n",
       " 'regular',\n",
       " 'wickets.',\n",
       " 'We',\n",
       " 'learnt',\n",
       " 'some',\n",
       " 'harsh',\n",
       " 'lessons',\n",
       " 'against',\n",
       " 'India',\n",
       " 'as',\n",
       " 'individuals.',\n",
       " \"We've\",\n",
       " 'seen',\n",
       " 'Nice',\n",
       " 'performances',\n",
       " 'in',\n",
       " 'the',\n",
       " 'last',\n",
       " 'two',\n",
       " 'matches,',\n",
       " 'especially',\n",
       " 'from',\n",
       " 'Guptill',\n",
       " 'in',\n",
       " 'terms',\n",
       " 'of',\n",
       " 'taking',\n",
       " 'the',\n",
       " 'momentum',\n",
       " 'from',\n",
       " 'the',\n",
       " 'previous',\n",
       " 'game.',\n",
       " 'Scoring',\n",
       " 'back-t-back',\n",
       " 'hundreds',\n",
       " 'is',\n",
       " 'freakish.',\n",
       " 'It',\n",
       " 'was',\n",
       " 'nice',\n",
       " 'to',\n",
       " 'spend',\n",
       " 'some',\n",
       " 'time',\n",
       " 'in',\n",
       " 'the',\n",
       " 'middle',\n",
       " 'and',\n",
       " 'I',\n",
       " 'wanted',\n",
       " 'to',\n",
       " 'play',\n",
       " 'straight',\n",
       " 'and',\n",
       " 'I',\n",
       " 'wanted',\n",
       " 'to',\n",
       " 'assist',\n",
       " 'his',\n",
       " 'freedom.',\n",
       " '']"
      ]
     },
     "execution_count": 195,
     "metadata": {},
     "output_type": "execute_result"
    }
   ],
   "source": [
    "l"
   ]
  },
  {
   "cell_type": "code",
   "execution_count": null,
   "metadata": {},
   "outputs": [],
   "source": []
  }
 ],
 "metadata": {
  "kernelspec": {
   "display_name": "Python 3",
   "language": "python",
   "name": "python3"
  },
  "language_info": {
   "codemirror_mode": {
    "name": "ipython",
    "version": 3
   },
   "file_extension": ".py",
   "mimetype": "text/x-python",
   "name": "python",
   "nbconvert_exporter": "python",
   "pygments_lexer": "ipython3",
   "version": "3.6.5"
  }
 },
 "nbformat": 4,
 "nbformat_minor": 2
}
