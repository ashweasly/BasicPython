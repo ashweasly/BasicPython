{
 "cells": [
  {
   "cell_type": "code",
   "execution_count": 1,
   "metadata": {},
   "outputs": [
    {
     "name": "stdout",
     "output_type": "stream",
     "text": [
      "ab\n",
      "enter correct input\n"
     ]
    }
   ],
   "source": [
    "try:\n",
    "    a = int(input())\n",
    "    print(a)\n",
    "except:\n",
    "    print(\"enter correct input\")\n",
    "\n",
    "    "
   ]
  },
  {
   "cell_type": "code",
   "execution_count": null,
   "metadata": {},
   "outputs": [],
   "source": []
  },
  {
   "cell_type": "code",
   "execution_count": 223,
   "metadata": {},
   "outputs": [
    {
     "name": "stdout",
     "output_type": "stream",
     "text": [
      "DFAV\n",
      "enter correct input\n",
      "ZF F \n",
      "enter correct input\n",
      "ZF Z \n",
      "enter correct input\n"
     ]
    }
   ],
   "source": [
    "a = 'a'\n",
    "\n",
    "i = 0\n",
    "while(type(a)!=int):\n",
    "    i = i + 1\n",
    "    try:\n",
    "        a = input()\n",
    "        a = int(a)\n",
    "        print(a)\n",
    "    except:\n",
    "        print(\"enter correct input\")\n",
    "        if i == 3:\n",
    "            break\n",
    "        "
   ]
  },
  {
   "cell_type": "code",
   "execution_count": null,
   "metadata": {},
   "outputs": [],
   "source": [
    "#Finally - Will always execute(EG closing db connections)\n",
    "#Else - WIll execute on positive occurance"
   ]
  },
  {
   "cell_type": "code",
   "execution_count": 20,
   "metadata": {},
   "outputs": [
    {
     "name": "stdout",
     "output_type": "stream",
     "text": [
      "2\n",
      "2.5\n",
      "good work for entering right input\n",
      "test for finally\n"
     ]
    }
   ],
   "source": [
    "a = 'a'\n",
    "m = 5\n",
    "try:\n",
    "    a = int(input())\n",
    "    print(m/a)\n",
    "except ZeroDivisionError as zd:\n",
    "    print(zd)\n",
    "except Exception as e:\n",
    "    print(e)\n",
    "    print(\"Enter number\")\n",
    "else:\n",
    "    print(\"good work for entering right input\")\n",
    "finally:\n",
    "    print(\"test for finally\")"
   ]
  },
  {
   "cell_type": "code",
   "execution_count": 24,
   "metadata": {},
   "outputs": [
    {
     "name": "stdout",
     "output_type": "stream",
     "text": [
      "aa\n",
      "invalid literal for int() with base 10: 'aa'\n",
      "Enter number\n",
      "test for finally\n",
      "a\n",
      "invalid literal for int() with base 10: 'a'\n",
      "Enter number\n",
      "test for finally\n",
      "1\n",
      "5.0\n",
      "good work for entering right input\n",
      "test for finally\n"
     ]
    }
   ],
   "source": [
    "a = 'a'\n",
    "m = 5\n",
    "p = 0\n",
    "while(type(a)!=int):\n",
    "    p = p+1\n",
    "    try:\n",
    "        a = int(input())\n",
    "        print(m/a)\n",
    "    except ZeroDivisionError as zd:\n",
    "        print(zd)\n",
    "    except Exception as e:\n",
    "        print(e)\n",
    "        print(\"Enter number\")\n",
    "    else:\n",
    "        print(\"good work for entering right input\")\n",
    "    finally:\n",
    "        print(\"test for finally\")\n",
    "        if p == 3:\n",
    "            break"
   ]
  },
  {
   "cell_type": "code",
   "execution_count": 27,
   "metadata": {},
   "outputs": [],
   "source": [
    "class Employee:\n",
    "    def display():\n",
    "        print(\"You are an idiot\")\n",
    "\n",
    "ashok = Employee()\n"
   ]
  },
  {
   "cell_type": "code",
   "execution_count": null,
   "metadata": {},
   "outputs": [],
   "source": [
    "#By default something is passed"
   ]
  },
  {
   "cell_type": "code",
   "execution_count": 29,
   "metadata": {},
   "outputs": [
    {
     "ename": "TypeError",
     "evalue": "display() takes 0 positional arguments but 2 were given",
     "output_type": "error",
     "traceback": [
      "\u001b[1;31m---------------------------------------------------------------------------\u001b[0m",
      "\u001b[1;31mTypeError\u001b[0m                                 Traceback (most recent call last)",
      "\u001b[1;32m<ipython-input-29-a1a820ac7746>\u001b[0m in \u001b[0;36m<module>\u001b[1;34m()\u001b[0m\n\u001b[1;32m----> 1\u001b[1;33m \u001b[0mashok\u001b[0m\u001b[1;33m.\u001b[0m\u001b[0mdisplay\u001b[0m\u001b[1;33m(\u001b[0m\u001b[1;34m'ap'\u001b[0m\u001b[1;33m)\u001b[0m\u001b[1;33m\u001b[0m\u001b[0m\n\u001b[0m",
      "\u001b[1;31mTypeError\u001b[0m: display() takes 0 positional arguments but 2 were given"
     ]
    }
   ],
   "source": [
    "ashok.display('ap')"
   ]
  },
  {
   "cell_type": "code",
   "execution_count": 43,
   "metadata": {},
   "outputs": [
    {
     "name": "stdout",
     "output_type": "stream",
     "text": [
      "self\n"
     ]
    }
   ],
   "source": [
    "class Employee:\n",
    "    def __init__(self,name):\n",
    "        print(\"self\")\n",
    "        self.name = name\n",
    "    def display(self):\n",
    "        print(\"You are an idiot \" + self.name)\n",
    "\n",
    "ashok = Employee(\"rock\")\n"
   ]
  },
  {
   "cell_type": "code",
   "execution_count": 44,
   "metadata": {},
   "outputs": [
    {
     "name": "stdout",
     "output_type": "stream",
     "text": [
      "You are an idiot rock\n"
     ]
    }
   ],
   "source": [
    "ashok.display()"
   ]
  },
  {
   "cell_type": "code",
   "execution_count": 48,
   "metadata": {},
   "outputs": [],
   "source": [
    "class Employee:\n",
    "    def __init__(self,name,age,dept,designation,salary):\n",
    "        self.name = name\n",
    "        self.age = age\n",
    "        self.dept = dept\n",
    "        self.designation = designation\n",
    "        self.salary = salary\n",
    "    def display(self):\n",
    "        print(\"You are an idiot \" + self.name + self.salary)\n",
    "\n",
    "ashok = Employee(\"rock\",\"28\",\"mech\",\"VP\",\"500000\")"
   ]
  },
  {
   "cell_type": "code",
   "execution_count": 219,
   "metadata": {},
   "outputs": [],
   "source": [
    "class Employee:\n",
    "    def __init__(self,name,age,dept,designation,salary):\n",
    "        self.name = name\n",
    "        self.age = age\n",
    "        self.dept = dept\n",
    "        self.designation = designation\n",
    "        self.salary = salary\n",
    "    def display(self):\n",
    "        print(\"You are an idiot \" , self.name , self.salary)\n",
    "    def __repr__(self):#repr used to print objects\n",
    "        return self.name+ \" \" +str(self.age)\n",
    "\n",
    "ashok = Employee(\"rock\",28,\"mech\",\"VP\",500000)"
   ]
  },
  {
   "cell_type": "code",
   "execution_count": 220,
   "metadata": {},
   "outputs": [
    {
     "name": "stdout",
     "output_type": "stream",
     "text": [
      "rock 28\n"
     ]
    }
   ],
   "source": [
    "print(ashok)"
   ]
  },
  {
   "cell_type": "code",
   "execution_count": 54,
   "metadata": {},
   "outputs": [
    {
     "name": "stdout",
     "output_type": "stream",
     "text": [
      "You are an idiot  rock 500000\n"
     ]
    }
   ],
   "source": [
    "ashok.display()"
   ]
  },
  {
   "cell_type": "code",
   "execution_count": 56,
   "metadata": {},
   "outputs": [],
   "source": [
    "ashok.dept = \"cs\""
   ]
  },
  {
   "cell_type": "code",
   "execution_count": 57,
   "metadata": {},
   "outputs": [
    {
     "data": {
      "text/plain": [
       "'cs'"
      ]
     },
     "execution_count": 57,
     "metadata": {},
     "output_type": "execute_result"
    }
   ],
   "source": [
    "ashok.dept"
   ]
  },
  {
   "cell_type": "code",
   "execution_count": 59,
   "metadata": {},
   "outputs": [
    {
     "name": "stdout",
     "output_type": "stream",
     "text": [
      "name,age,dept,designation,salary\n",
      "Ashwin,28,ece,vp,400000\n",
      "rock,29,cs,manager,500000\n",
      "mahesh,30,Architect,600000\n"
     ]
    }
   ],
   "source": [
    "a = open(\"Filehandling/employeedata\",mode = \"r\")\n",
    "print(a.read())"
   ]
  },
  {
   "cell_type": "code",
   "execution_count": 203,
   "metadata": {},
   "outputs": [
    {
     "name": "stdout",
     "output_type": "stream",
     "text": [
      "400000\n",
      "500000\n",
      "600000\n"
     ]
    }
   ],
   "source": [
    "a = open(\"Filehandling/employeedata\",mode = \"r\")\n",
    "#text = a.readlines()\n",
    "#print(text)\n",
    "L = list()\n",
    "L2 = list()\n",
    "for i in a:\n",
    "    #print(i)\n",
    "    L = i.split(\",\")\n",
    "    #print(L)\n",
    "    #m = L[0] \n",
    "    emp  = Employee(L[0],L[1],L[2],L[3],int(L[4]))\n",
    "    L2.append(emp)\n",
    "for i in L2:\n",
    "    print(i.salary)\n",
    "\n",
    "\n",
    "    "
   ]
  },
  {
   "cell_type": "code",
   "execution_count": 204,
   "metadata": {},
   "outputs": [
    {
     "name": "stdout",
     "output_type": "stream",
     "text": [
      "400000 <class 'int'>\n",
      "500000 <class 'int'>\n",
      "600000 <class 'int'>\n"
     ]
    }
   ],
   "source": [
    "for i in L2:\n",
    "    print (i.salary,type(i.salary))"
   ]
  },
  {
   "cell_type": "code",
   "execution_count": 205,
   "metadata": {},
   "outputs": [],
   "source": [
    "def get_all_employees_from_db():\n",
    "    #copying each value and loading it in new list\n",
    "    #we could provide implementations to be loaded from DB, File, Excel, CSV etc.\n",
    "    #This funtion should return the values loaded from different source as dict\n",
    "    #temp=[]\n",
    "    #for i in L2:\n",
    "    #    temp.append({'name':i.name,'age':int(i.age),'dept':i.dept,'designation':i.designation,'salary':int(i.salary)})\n",
    "    #print(temp)\n",
    "    return (L2)"
   ]
  },
  {
   "cell_type": "code",
   "execution_count": 206,
   "metadata": {},
   "outputs": [],
   "source": [
    "# The main function of our interest here\n",
    "\n",
    "#Rules\n",
    " # Need to apply salary revision for all except Interns\n",
    " # Need to apply promotions for all Employee as per the guidelines \n",
    " # If designation is VP apply x% (25% for example)\n",
    " # If dept is Engineering apply x% (15% for example)\n",
    " # All Sales folks with x % (10% for example) \n",
    " # All support folks with x % (12.5% for example)\n",
    "\n",
    "def revise_salary_for_all(**logics):\n",
    "        #load data from Datasource\n",
    "        employees = get_all_employees_from_db()\n",
    "        \n",
    "        #finding the logic based on designation, if not finding based on dept\n",
    "        #Showcasing the dictionary way to find values and get default if not found in dict\n",
    "        #as you call lambda, it will return an lambda from a dict\n",
    "        logid =lambda i:logics.get(i.designation,logics.get(i.dept)) # future, read return first (default value)\n",
    "        return [revise_salary(i,logid(i)) for i in employees]\n",
    "    \n",
    "def revise_salary(employee, logic):\n",
    "        \n",
    "        employee.salary = logic(employee.salary)\n",
    "        return employee"
   ]
  },
  {
   "cell_type": "code",
   "execution_count": 210,
   "metadata": {},
   "outputs": [],
   "source": [
    "logics = {\"sales\":lambda x : x+(x*0.1), \n",
    "          \"engineering\":lambda x:x+(x*0.15), \n",
    "          \"support\":lambda x:x+(x*0.125), \n",
    "          \"hr\": lambda x:x+1, \n",
    "          \"VP\":lambda x:x+(x*0.25)}"
   ]
  },
  {
   "cell_type": "code",
   "execution_count": 211,
   "metadata": {},
   "outputs": [
    {
     "name": "stdout",
     "output_type": "stream",
     "text": [
      "Before Hike : \n",
      "Ashwin VP sales 625000.0\n",
      "rock manager hr 500000\n",
      "mahesh Architect engineering 793500.0\n",
      "==========================================================\n",
      "After Hike :\n",
      "Ashwin VP sales 781250.0\n",
      "rock manager hr 500001\n",
      "mahesh Architect engineering 912525.0\n"
     ]
    }
   ],
   "source": [
    "print(\"Before Hike : \")\n",
    "for i in L2:\n",
    "    print(i.name,i.designation,i.dept,i.salary)\n",
    "print(\"==========================================================\")\n",
    "print(\"After Hike :\")\n",
    "revise_salary_for_all(**logics)\n",
    "for i in L2:\n",
    "    print(i.name,i.designation,i.dept,i.salary)"
   ]
  },
  {
   "cell_type": "code",
   "execution_count": null,
   "metadata": {},
   "outputs": [],
   "source": [
    "class test:\n",
    "    def __repr__(self,name,age):\n",
    "        print(self.name,self.age)\n",
    "    "
   ]
  },
  {
   "cell_type": "code",
   "execution_count": 203,
   "metadata": {},
   "outputs": [
    {
     "name": "stdout",
     "output_type": "stream",
     "text": [
      "400000\n",
      "500000\n",
      "600000\n"
     ]
    }
   ],
   "source": [
    "a = open(\"Filehandling/employeedata\",mode = \"r\")\n",
    "#text = a.readlines()\n",
    "#print(text)\n",
    "L = list()\n",
    "L2 = list()\n",
    "for i in a:\n",
    "    #print(i)\n",
    "    L = i.split(\",\")\n",
    "    #print(L)\n",
    "    #m = L[0] \n",
    "    emp  = Employee(L[0],L[1],L[2],L[3],int(L[4]))\n",
    "    L2.append(emp)\n",
    "for i in L2:\n",
    "    print(i.salary)\n",
    "\n",
    "\n",
    "    \n",
    "\n",
    "for i in L2:\n",
    "    print (i.salary,type(i.salary))\n",
    "\n",
    "def get_all_employees_from_db():\n",
    "    #copying each value and loading it in new list\n",
    "    #we could provide implementations to be loaded from DB, File, Excel, CSV etc.\n",
    "    #This funtion should return the values loaded from different source as dict\n",
    "    #temp=[]\n",
    "    #for i in L2:\n",
    "    #    temp.append({'name':i.name,'age':int(i.age),'dept':i.dept,'designation':i.designation,'salary':int(i.salary)})\n",
    "    #print(temp)\n",
    "    return (L2)\n",
    "\n",
    "# The main function of our interest here\n",
    "\n",
    "#Rules\n",
    " # Need to apply salary revision for all except Interns\n",
    " # Need to apply promotions for all Employee as per the guidelines \n",
    " # If designation is VP apply x% (25% for example)\n",
    " # If dept is Engineering apply x% (15% for example)\n",
    " # All Sales folks with x % (10% for example) \n",
    " # All support folks with x % (12.5% for example)\n",
    "\n",
    "def revise_salary_for_all(**logics):\n",
    "        #load data from Datasource\n",
    "        employees = get_all_employees_from_db()\n",
    "        \n",
    "        #finding the logic based on designation, if not finding based on dept\n",
    "        #Showcasing the dictionary way to find values and get default if not found in dict\n",
    "        #as you call lambda, it will return an lambda from a dict\n",
    "        logid =lambda i:logics.get(i.designation,logics.get(i.dept)) # future, read return first (default value)\n",
    "        return [revise_salary(i,logid(i)) for i in employees]\n",
    "    \n",
    "def revise_salary(employee, logic):\n",
    "        \n",
    "        employee.salary = logic(employee.salary)\n",
    "        return employee\n",
    "\n",
    "logics = {\"sales\":lambda x : x+(x*0.1), \n",
    "          \"engineering\":lambda x:x+(x*0.15), \n",
    "          \"support\":lambda x:x+(x*0.125), \n",
    "          \"hr\": lambda x:x+1, \n",
    "          \"VP\":lambda x:x+(x*0.25)}\n",
    "\n",
    "print(\"Before Hike : \")\n",
    "for i in L2:\n",
    "    print(i.name,i.designation,i.dept,i.salary)\n",
    "print(\"==========================================================\")\n",
    "print(\"After Hike :\")\n",
    "revise_salary_for_all(**logics)\n",
    "for i in L2:\n",
    "    print(i.name,i.designation,i.dept,i.salary)"
   ]
  },
  {
   "cell_type": "code",
   "execution_count": null,
   "metadata": {},
   "outputs": [],
   "source": []
  }
 ],
 "metadata": {
  "kernelspec": {
   "display_name": "Python 3",
   "language": "python",
   "name": "python3"
  },
  "language_info": {
   "codemirror_mode": {
    "name": "ipython",
    "version": 3
   },
   "file_extension": ".py",
   "mimetype": "text/x-python",
   "name": "python",
   "nbconvert_exporter": "python",
   "pygments_lexer": "ipython3",
   "version": "3.6.5"
  }
 },
 "nbformat": 4,
 "nbformat_minor": 2
}
