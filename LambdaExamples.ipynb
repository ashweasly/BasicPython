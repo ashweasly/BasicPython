{
 "cells": [
  {
   "cell_type": "code",
   "execution_count": 75,
   "metadata": {},
   "outputs": [],
   "source": [
    "#Use case of updating the salary of the Employees:\n",
    "\n",
    "employee_dict = [{\"name\":\"Alwin\",\"age\":28, \"dept\":\"engineering\",\"designation\":\"DB Engineer\",\"salary\":30000},\n",
    "                 {\"name\":\"Basheer\",\"age\":33, \"dept\":\"engineering\",\"designation\":\"Architect\",\"salary\":80000},\n",
    "                 {\"name\":\"Caleb\",\"age\":30, \"dept\":\"sales\",\"designation\":\"Sales Officer\",\"salary\":60000},\n",
    "                 {\"name\":\"Candy\",\"age\":50, \"dept\":\"sales\",\"designation\":\"VP\",\"salary\":100000},\n",
    "                 {\"name\":\"Dinesh\",\"age\":50, \"dept\":\"support\",\"designation\":\"VP\",\"salary\":200000},\n",
    "                 {\"name\":\"Ezhil\",\"age\":20, \"dept\":\"hr\",\"designation\":\"Intern\",\"salary\":5000}]\n",
    "\n",
    "                 \n",
    "def get_all_employees_from_db():\n",
    "    #copying each value and loading it in new list\n",
    "    #we could provide implementations to be loaded from DB, File, Excel, CSV etc.\n",
    "    #This funtion should return the values loaded from different source as dict\n",
    "    return [i.copy() for i in employee_dict]"
   ]
  },
  {
   "cell_type": "code",
   "execution_count": 76,
   "metadata": {},
   "outputs": [],
   "source": [
    "# The main function of our interest here\n",
    "\n",
    "#Rules\n",
    " # Need to apply salary revision for all except Interns\n",
    " # Need to apply promotions for all Employee as per the guidelines \n",
    " # If designation is VP apply x% (25% for example)\n",
    " # If dept is Engineering apply x% (15% for example)\n",
    " # All Sales folks with x % (10% for example) \n",
    " # All support folks with x % (12.5% for example)\n",
    "\n",
    "def revise_salary_for_all(**logics):\n",
    "        #load data from Datasource\n",
    "        employees = get_all_employees_from_db()\n",
    "        #finding the logic based on designation, if not finding based on dept\n",
    "        #Showcasing the dictionary way to find values and get default if not found in dict\n",
    "        #as you call lambda, it will return an lambda from a dict\n",
    "        logid =lambda i:logics.get(i['designation'],logics.get(i['dept'])) # future, read return first (default value)\n",
    "        return [revise_salary(i,logid(i)) for i in employees]\n",
    "    \n",
    "def revise_salary(employee, logic):\n",
    "        employee['salary'] = logic(employee['salary'])\n",
    "        return employee"
   ]
  },
  {
   "cell_type": "code",
   "execution_count": 79,
   "metadata": {},
   "outputs": [],
   "source": [
    "logics = {\"sales\":lambda x : x+(x*0.1), \n",
    "          \"engineering\":lambda x:x+(x*0.15), \n",
    "          \"support\":lambda x:x+(x*0.125), \n",
    "          \"hr\": lambda x:x, \n",
    "          \"VP\":lambda x:x+(x*0.25)}"
   ]
  },
  {
   "cell_type": "code",
   "execution_count": 78,
   "metadata": {},
   "outputs": [
    {
     "name": "stdout",
     "output_type": "stream",
     "text": [
      "Before Hike :  [{'name': 'Alwin', 'age': 28, 'dept': 'engineering', 'designation': 'DB Engineer', 'salary': 30000}, {'name': 'Basheer', 'age': 33, 'dept': 'engineering', 'designation': 'Architect', 'salary': 80000}, {'name': 'Caleb', 'age': 30, 'dept': 'sales', 'designation': 'Sales Officer', 'salary': 60000}, {'name': 'Candy', 'age': 50, 'dept': 'sales', 'designation': 'VP', 'salary': 100000}, {'name': 'Dinesh', 'age': 50, 'dept': 'support', 'designation': 'VP', 'salary': 200000}, {'name': 'Ezhil', 'age': 20, 'dept': 'hr', 'designation': 'Intern', 'salary': 5000}]\n",
      "==========================================================\n",
      "After Hike : [{'name': 'Alwin', 'age': 28, 'dept': 'engineering', 'designation': 'DB Engineer', 'salary': 34500.0}, {'name': 'Basheer', 'age': 33, 'dept': 'engineering', 'designation': 'Architect', 'salary': 92000.0}, {'name': 'Caleb', 'age': 30, 'dept': 'sales', 'designation': 'Sales Officer', 'salary': 66000.0}, {'name': 'Candy', 'age': 50, 'dept': 'sales', 'designation': 'VP', 'salary': 125000.0}, {'name': 'Dinesh', 'age': 50, 'dept': 'support', 'designation': 'VP', 'salary': 250000.0}, {'name': 'Ezhil', 'age': 20, 'dept': 'hr', 'designation': 'Intern', 'salary': 5000}]\n"
     ]
    }
   ],
   "source": [
    "print(\"Before Hike : \", employee_dict)\n",
    "print(\"==========================================================\")\n",
    "print(\"After Hike :\" , revise_salary_for_all(**logics))\n"
   ]
  }
 ],
 "metadata": {
  "kernelspec": {
   "display_name": "Python 3",
   "language": "python",
   "name": "python3"
  },
  "language_info": {
   "codemirror_mode": {
    "name": "ipython",
    "version": 3
   },
   "file_extension": ".py",
   "mimetype": "text/x-python",
   "name": "python",
   "nbconvert_exporter": "python",
   "pygments_lexer": "ipython3",
   "version": "3.6.5"
  }
 },
 "nbformat": 4,
 "nbformat_minor": 2
}
