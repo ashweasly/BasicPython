{
 "cells": [
  {
   "cell_type": "code",
   "execution_count": 3,
   "metadata": {},
   "outputs": [],
   "source": [
    "## Complexity\n",
    "# -----> Time, Space"
   ]
  },
  {
   "cell_type": "code",
   "execution_count": 4,
   "metadata": {},
   "outputs": [],
   "source": [
    "#Constenet Complexity\n",
    "# O(1)\n",
    "# O(n)\n",
    "# O(n^2)"
   ]
  },
  {
   "cell_type": "code",
   "execution_count": null,
   "metadata": {},
   "outputs": [],
   "source": [
    "#REST API\n",
    "#representaion state transfer protocol\n",
    "#http reposnse codes\n",
    "#Error Cayegories - 2xx- all good\n",
    "#,3xx- redirections,\n",
    "#4xx - webpage entry/permissions\n",
    "#5xx - server inernal errors(Eg 404 page not found)"
   ]
  },
  {
   "cell_type": "markdown",
   "metadata": {},
   "source": [
    "#what is difference between post and put\n",
    "https://restfulapi.net/rest-put-vs-post/\n",
    "    get,put, delete - idempotent(will change state only once)\n",
    "    post - not idempotent and not safe"
   ]
  },
  {
   "cell_type": "code",
   "execution_count": 1,
   "metadata": {},
   "outputs": [],
   "source": [
    "#what is api"
   ]
  },
  {
   "cell_type": "code",
   "execution_count": 2,
   "metadata": {},
   "outputs": [],
   "source": []
  },
  {
   "cell_type": "code",
   "execution_count": null,
   "metadata": {},
   "outputs": [
    {
     "name": "stderr",
     "output_type": "stream",
     "text": [
      " * Running on http://127.0.0.1:5000/ (Press CTRL+C to quit)\n",
      "127.0.0.1 - - [16/Mar/2019 16:18:26] \"GET / HTTP/1.1\" 200 -\n"
     ]
    },
    {
     "name": "stdout",
     "output_type": "stream",
     "text": [
      "welcome to hello world\n"
     ]
    },
    {
     "name": "stderr",
     "output_type": "stream",
     "text": [
      "127.0.0.1 - - [16/Mar/2019 16:18:33] \"GET /hello HTTP/1.1\" 200 -\n"
     ]
    },
    {
     "name": "stdout",
     "output_type": "stream",
     "text": [
      "welcome to hello world\n"
     ]
    },
    {
     "name": "stderr",
     "output_type": "stream",
     "text": [
      "127.0.0.1 - - [16/Mar/2019 16:20:15] \"GET / HTTP/1.1\" 200 -\n"
     ]
    },
    {
     "name": "stdout",
     "output_type": "stream",
     "text": [
      "welcome to hello world\n"
     ]
    },
    {
     "name": "stderr",
     "output_type": "stream",
     "text": [
      "127.0.0.1 - - [16/Mar/2019 16:20:19] \"GET /hello HTTP/1.1\" 200 -\n"
     ]
    },
    {
     "name": "stdout",
     "output_type": "stream",
     "text": [
      "welcome to hello world\n"
     ]
    },
    {
     "name": "stderr",
     "output_type": "stream",
     "text": [
      "127.0.0.1 - - [16/Mar/2019 16:20:25] \"POST /hello HTTP/1.1\" 405 -\n",
      "127.0.0.1 - - [16/Mar/2019 16:20:38] \"POST /hello3 HTTP/1.1\" 404 -\n"
     ]
    }
   ],
   "source": [
    "from flask import Flask, request, jsonify\n",
    "app = Flask(__name__)\n",
    "@app.route('/')#annotation to make it a service\n",
    "def hello():\n",
    "    print(\"welcome to hello world\")\n",
    "    return \"HI\"\n",
    "@app.route('/hello')\n",
    "def hello1():\n",
    "    print(\"welcome to hello world\")\n",
    "    return \"HI2\"\n",
    "app.run()\n"
   ]
  },
  {
   "cell_type": "code",
   "execution_count": null,
   "metadata": {},
   "outputs": [
    {
     "name": "stderr",
     "output_type": "stream",
     "text": [
      " * Running on http://127.0.0.1:5000/ (Press CTRL+C to quit)\n",
      "127.0.0.1 - - [16/Mar/2019 16:17:08] \"GET / HTTP/1.1\" 200 -\n",
      "127.0.0.1 - - [16/Mar/2019 16:17:08] \"GET /favicon.ico HTTP/1.1\" 404 -\n"
     ]
    },
    {
     "name": "stdout",
     "output_type": "stream",
     "text": [
      "welcome to hello world\n"
     ]
    }
   ],
   "source": []
  },
  {
   "cell_type": "code",
   "execution_count": 1,
   "metadata": {},
   "outputs": [
    {
     "name": "stderr",
     "output_type": "stream",
     "text": [
      " * Running on http://127.0.0.1:5000/ (Press CTRL+C to quit)\n",
      "127.0.0.1 - - [16/Mar/2019 17:05:25] \"POST /complex HTTP/1.1\" 200 -\n"
     ]
    },
    {
     "name": "stdout",
     "output_type": "stream",
     "text": [
      "{'a': [10, 20], 'b': [30, 40]}\n"
     ]
    }
   ],
   "source": [
    "#add function with flask\n",
    "from flask import Flask, request, jsonify\n",
    "app = Flask(__name__)\n",
    "@app.route(\"/add\",methods=[\"POST\"])\n",
    "def add():\n",
    "    print(request.json)       \n",
    "    a = request.json['a']\n",
    "    b = request.json['b']\n",
    "    return str(a+b)# if not string, send as json object\n",
    "#app.run()\n",
    "\n",
    "@app.route(\"/complex\",methods=[\"POST\"])\n",
    "def complexadd():\n",
    "    print(request.json)\n",
    "    aadd = 0\n",
    "    badd = 0\n",
    "    a = request.json['a']\n",
    "    b = request.json['b']\n",
    "    for i in a:\n",
    "        aadd = aadd+ i\n",
    "    for i in b:\n",
    "        badd = badd+i\n",
    "    \n",
    "    return jsonify({\"Result\":aadd+badd})# if not string, send as json object\n",
    "app.run()"
   ]
  },
  {
   "cell_type": "code",
   "execution_count": null,
   "metadata": {},
   "outputs": [],
   "source": []
  }
 ],
 "metadata": {
  "kernelspec": {
   "display_name": "Python 3",
   "language": "python",
   "name": "python3"
  },
  "language_info": {
   "codemirror_mode": {
    "name": "ipython",
    "version": 3
   },
   "file_extension": ".py",
   "mimetype": "text/x-python",
   "name": "python",
   "nbconvert_exporter": "python",
   "pygments_lexer": "ipython3",
   "version": "3.6.5"
  }
 },
 "nbformat": 4,
 "nbformat_minor": 2
}
