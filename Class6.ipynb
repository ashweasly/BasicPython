{
 "cells": [
  {
   "cell_type": "code",
   "execution_count": null,
   "metadata": {},
   "outputs": [],
   "source": [
    "#INDEX\n",
    "1)Class\n",
    "2)Hash\n",
    "3)DB\n"
   ]
  },
  {
   "cell_type": "code",
   "execution_count": 40,
   "metadata": {},
   "outputs": [],
   "source": [
    "class student:\n",
    "    def __init__(self,id,name,age,year,dept):\n",
    "        self.id = id\n",
    "        self.name = name\n",
    "        self.age = age\n",
    "        self.year = year\n",
    "        self.dept = dept\n",
    "    def __eq__(self,a):\n",
    "        print(\"calling eq function\",self.id)\n",
    "        return self.id == a.id # condition we give to compare with outside object\n",
    "    def __repr__(self):#repr used to print objects\n",
    "        return str(self.id)\n",
    "    def __hash__(self):\n",
    "        print('hash',self.id)\n",
    "        return 1\n"
   ]
  },
  {
   "cell_type": "code",
   "execution_count": 53,
   "metadata": {},
   "outputs": [],
   "source": [
    "\n",
    "a1 = student(1,'ashwin',23,1990,'cs')\n",
    "a2 = student(1,'ashwin',23,1990,'cs')\n",
    "a3 = student(2,'ashwin2',23,1990,'cs')\n",
    "a4 = student(3,'ashwin3',23,1990,'cs')\n",
    "a5 = student(4,'ashwin4',23,1990,'cs')\n",
    "a6 = student(5,'ashwin5',23,1990,'cs')\n",
    "a7 = student(1,'ashwin',23,1990,'cs')"
   ]
  },
  {
   "cell_type": "code",
   "execution_count": 33,
   "metadata": {},
   "outputs": [],
   "source": [
    "L = [a1,a2]"
   ]
  },
  {
   "cell_type": "code",
   "execution_count": 34,
   "metadata": {},
   "outputs": [
    {
     "data": {
      "text/plain": [
       "[1, 1]"
      ]
     },
     "execution_count": 34,
     "metadata": {},
     "output_type": "execute_result"
    }
   ],
   "source": [
    "L"
   ]
  },
  {
   "cell_type": "code",
   "execution_count": 35,
   "metadata": {},
   "outputs": [],
   "source": [
    "#Set _ Objects_not Remove duplicates when passing objects."
   ]
  },
  {
   "cell_type": "code",
   "execution_count": 43,
   "metadata": {},
   "outputs": [
    {
     "name": "stdout",
     "output_type": "stream",
     "text": [
      "hash 1\n",
      "hash 1\n",
      "calling eq function 1\n",
      "hash 2\n",
      "calling eq function 1\n",
      "hash 3\n",
      "calling eq function 1\n",
      "calling eq function 2\n",
      "hash 4\n",
      "calling eq function 1\n",
      "calling eq function 2\n",
      "calling eq function 3\n",
      "hash 5\n",
      "calling eq function 1\n",
      "calling eq function 2\n",
      "calling eq function 3\n",
      "calling eq function 4\n"
     ]
    },
    {
     "data": {
      "text/plain": [
       "{1, 2, 3, 4, 5}"
      ]
     },
     "execution_count": 43,
     "metadata": {},
     "output_type": "execute_result"
    }
   ],
   "source": [
    "S = {a1,a2,a3,a4,a5,a6}\n",
    "S"
   ]
  },
  {
   "cell_type": "code",
   "execution_count": 8,
   "metadata": {},
   "outputs": [
    {
     "data": {
      "text/plain": [
       "{1, 2, 3}"
      ]
     },
     "execution_count": 8,
     "metadata": {},
     "output_type": "execute_result"
    }
   ],
   "source": [
    "l = [1,2,3,1]\n",
    "S = set(l)\n",
    "S"
   ]
  },
  {
   "cell_type": "code",
   "execution_count": null,
   "metadata": {},
   "outputs": [],
   "source": [
    "#Checking class with one parameter"
   ]
  },
  {
   "cell_type": "code",
   "execution_count": 13,
   "metadata": {},
   "outputs": [
    {
     "data": {
      "text/plain": [
       "{<__main__.student_one at 0x27f69296828>,\n",
       " <__main__.student_one at 0x27f69296898>}"
      ]
     },
     "execution_count": 13,
     "metadata": {},
     "output_type": "execute_result"
    }
   ],
   "source": [
    "class student_one:\n",
    "    def __init__(self,name):\n",
    "        self.name = name\n",
    "    \n",
    "a1 = student_one(\"a\")\n",
    "a2 = student_one(\"b\")\n",
    "S = {a1,a2}\n",
    "S"
   ]
  },
  {
   "cell_type": "code",
   "execution_count": 14,
   "metadata": {},
   "outputs": [
    {
     "data": {
      "text/plain": [
       "{<__main__.student_one at 0x27f69296898>}"
      ]
     },
     "execution_count": 14,
     "metadata": {},
     "output_type": "execute_result"
    }
   ],
   "source": [
    "#Checking for duplicates, now since same address it works.\n",
    "a3 = a1\n",
    "S = {a1,a3}\n",
    "S"
   ]
  },
  {
   "cell_type": "markdown",
   "metadata": {},
   "source": [
    "## Define how to compare classes using the eq and hash function\n",
    "hash is called first\n",
    "then eq is called\n",
    "hash is irreversible(conversion)\n",
    "if hash says its not equal, we dont need to check equal , its definitely unequal.\n",
    "hsh is a optimised way to check\n",
    "now we ae gonna define new"
   ]
  },
  {
   "cell_type": "code",
   "execution_count": 48,
   "metadata": {},
   "outputs": [],
   "source": [
    "class student:\n",
    "    def __init__(self,id,name,age,year,dept):\n",
    "        self.id = id\n",
    "        self.name = name\n",
    "        self.age = age\n",
    "        self.year = year\n",
    "        self.dept = dept\n",
    "    def __eq__(self,a):\n",
    "        print(\"calling eq function\",self.id)\n",
    "        return self.id == a.id # condition we give to compare with outside object\n",
    "    def __repr__(self):#repr used to print objects\n",
    "        return str(self.id)\n",
    "    def __hash__(self):\n",
    "        print('hash',self.id)\n",
    "        return hash(str(self.id))\n",
    "\n"
   ]
  },
  {
   "cell_type": "code",
   "execution_count": 55,
   "metadata": {},
   "outputs": [
    {
     "name": "stdout",
     "output_type": "stream",
     "text": [
      "hash 1\n",
      "hash 1\n",
      "calling eq function 1\n",
      "hash 2\n",
      "hash 3\n",
      "hash 4\n",
      "hash 5\n",
      "hash 1\n",
      "calling eq function 1\n"
     ]
    },
    {
     "data": {
      "text/plain": [
       "{1, 2, 3, 4, 5}"
      ]
     },
     "execution_count": 55,
     "metadata": {},
     "output_type": "execute_result"
    }
   ],
   "source": [
    "S = {a1,a2,a3,a4,a5,a6,a7}\n",
    "S"
   ]
  },
  {
   "cell_type": "code",
   "execution_count": null,
   "metadata": {},
   "outputs": [],
   "source": [
    "#now hash has filtered everything ie no need to go to eq function"
   ]
  },
  {
   "cell_type": "markdown",
   "metadata": {},
   "source": [
    "## DB"
   ]
  },
  {
   "cell_type": "code",
   "execution_count": null,
   "metadata": {},
   "outputs": [],
   "source": [
    "DDL - create\n",
    "DML - Insert(CRUD)\n",
    "DCL - Grnt/revoke access\n",
    "####OLAP and OLTP\n",
    "Steps to connect to DB\n",
    "1.Driver\n",
    "2.Imort driver\n",
    "3.connector object\n",
    "4.execute"
   ]
  },
  {
   "cell_type": "code",
   "execution_count": 56,
   "metadata": {},
   "outputs": [],
   "source": [
    "import sqlite3"
   ]
  },
  {
   "cell_type": "code",
   "execution_count": 57,
   "metadata": {},
   "outputs": [],
   "source": [
    "con = sqlite3.connect(\"Test.DB\")"
   ]
  },
  {
   "cell_type": "code",
   "execution_count": 58,
   "metadata": {},
   "outputs": [],
   "source": [
    "sqlite3.connect?"
   ]
  },
  {
   "cell_type": "code",
   "execution_count": 64,
   "metadata": {},
   "outputs": [],
   "source": [
    "create = \"\"\"create table employee(\n",
    "            ID int not null,\n",
    "            Name text not null,\n",
    "            age int not null,\n",
    "            salary int not null)\"\"\"\n",
    "\n"
   ]
  },
  {
   "cell_type": "code",
   "execution_count": 63,
   "metadata": {},
   "outputs": [
    {
     "ename": "OperationalError",
     "evalue": "near \"or\": syntax error",
     "output_type": "error",
     "traceback": [
      "\u001b[1;31m---------------------------------------------------------------------------\u001b[0m",
      "\u001b[1;31mOperationalError\u001b[0m                          Traceback (most recent call last)",
      "\u001b[1;32m<ipython-input-63-9f6f6ff61881>\u001b[0m in \u001b[0;36m<module>\u001b[1;34m()\u001b[0m\n\u001b[1;32m----> 1\u001b[1;33m \u001b[0mcon\u001b[0m\u001b[1;33m.\u001b[0m\u001b[0mexecute\u001b[0m\u001b[1;33m(\u001b[0m\u001b[0mcreate\u001b[0m\u001b[1;33m)\u001b[0m\u001b[1;33m\u001b[0m\u001b[0m\n\u001b[0m",
      "\u001b[1;31mOperationalError\u001b[0m: near \"or\": syntax error"
     ]
    }
   ],
   "source": [
    "con.execute(create)"
   ]
  },
  {
   "cell_type": "code",
   "execution_count": 70,
   "metadata": {},
   "outputs": [
    {
     "data": {
      "text/plain": [
       "<sqlite3.Cursor at 0x27f692f81f0>"
      ]
     },
     "execution_count": 70,
     "metadata": {},
     "output_type": "execute_result"
    }
   ],
   "source": [
    "insert = '''insert into employee values(5,\"Rahul\",24,100000)'''\n",
    "con.execute(insert)"
   ]
  },
  {
   "cell_type": "code",
   "execution_count": 74,
   "metadata": {},
   "outputs": [],
   "source": [
    "ins = '''select * from employee'''"
   ]
  },
  {
   "cell_type": "code",
   "execution_count": 83,
   "metadata": {},
   "outputs": [],
   "source": [
    "a = con.execute(ins)"
   ]
  },
  {
   "cell_type": "code",
   "execution_count": 84,
   "metadata": {},
   "outputs": [
    {
     "name": "stdout",
     "output_type": "stream",
     "text": [
      "mahesh 150000\n",
      "abu 250000\n",
      "Shrikanth 500000\n"
     ]
    }
   ],
   "source": [
    "for i in a:\n",
    "    if i[3]>100000:\n",
    "        print(i[1],i[3])"
   ]
  },
  {
   "cell_type": "code",
   "execution_count": 86,
   "metadata": {},
   "outputs": [],
   "source": [
    "update = '''update employee set salary = 0 where age>30'''\n",
    "a = con.execute(update)"
   ]
  },
  {
   "cell_type": "code",
   "execution_count": 87,
   "metadata": {},
   "outputs": [
    {
     "name": "stdout",
     "output_type": "stream",
     "text": [
      "(1, 'Ashwin', 28, 50000)\n",
      "(2, 'mahesh', 38, 0)\n",
      "(3, 'abu', 30, 250000)\n",
      "(4, 'Shrikanth', 40, 0)\n",
      "(5, 'Rahul', 24, 100000)\n"
     ]
    }
   ],
   "source": [
    "for i in con.execute(\"select * from employee\"):\n",
    "    print(i)"
   ]
  },
  {
   "cell_type": "code",
   "execution_count": 90,
   "metadata": {},
   "outputs": [
    {
     "name": "stdout",
     "output_type": "stream",
     "text": [
      "(1, 'Ashwin', 28, 50000)\n",
      "(2, 'mahesh', 38, 0)\n",
      "(4, 'Shrikanth', 40, 0)\n",
      "(5, 'Rahul', 24, 100000)\n"
     ]
    }
   ],
   "source": [
    "delete = '''delete from employee where name = \"abu\" '''\n",
    "a = con.execute(delete)\n",
    "for i in con.execute(\"select * from employee\"):\n",
    "    print(i)\n"
   ]
  },
  {
   "cell_type": "markdown",
   "metadata": {},
   "source": [
    "# Dynamic Queries\n",
    "    Bind params\n",
    "    to save sql injections(safety)\n",
    "    checks syntax only once if we give ?"
   ]
  },
  {
   "cell_type": "code",
   "execution_count": 107,
   "metadata": {},
   "outputs": [],
   "source": [
    "dq = '''select * from employee where ID = ? or name = ?'''"
   ]
  },
  {
   "cell_type": "code",
   "execution_count": 108,
   "metadata": {},
   "outputs": [],
   "source": [
    "tp = (1,'mahesh')"
   ]
  },
  {
   "cell_type": "code",
   "execution_count": 109,
   "metadata": {},
   "outputs": [
    {
     "name": "stdout",
     "output_type": "stream",
     "text": [
      "(1, 'Ashwin', 28, 50000)\n",
      "(2, 'mahesh', 38, 0)\n"
     ]
    }
   ],
   "source": [
    "a = con.execute(dq,tp)\n",
    "for i in a:\n",
    "    print(i)"
   ]
  },
  {
   "cell_type": "code",
   "execution_count": null,
   "metadata": {},
   "outputs": [],
   "source": [
    "Next Class\n",
    "Rest\n",
    "install postman\n",
    "flask\n",
    "ui\n",
    "import package"
   ]
  }
 ],
 "metadata": {
  "kernelspec": {
   "display_name": "Python 3",
   "language": "python",
   "name": "python3"
  },
  "language_info": {
   "codemirror_mode": {
    "name": "ipython",
    "version": 3
   },
   "file_extension": ".py",
   "mimetype": "text/x-python",
   "name": "python",
   "nbconvert_exporter": "python",
   "pygments_lexer": "ipython3",
   "version": "3.6.5"
  }
 },
 "nbformat": 4,
 "nbformat_minor": 2
}
